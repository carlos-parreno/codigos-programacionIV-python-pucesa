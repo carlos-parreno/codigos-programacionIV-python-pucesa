{
 "cells": [
  {
   "cell_type": "markdown",
   "id": "36b892c5",
   "metadata": {},
   "source": [
    "# Trabajo en Clase: Resolución de Árboles de Expresión Aritmética"
   ]
  },
  {
   "cell_type": "markdown",
   "id": "93d12e6f",
   "metadata": {},
   "source": [
    "\n",
    "Este trabajo tiene como objetivo aplicar los conocimientos sobre árboles binarios de expresión en Python, utilizando clases, recursividad y visualización con `networkx` y `matplotlib`.\n",
    "\n",
    "## Instrucciones Generales:\n",
    "1. Resuelve los **5 ejercicios** propuestos a continuación.\n",
    "2. Para cada ejercicio:\n",
    "   - Construye el árbol binario de expresión.\n",
    "   - Implementa el árbol con clases (`Nodo`, `evaluar()`...).\n",
    "   - Visualiza el árbol con `networkx`.\n",
    "   - Evalúa la expresión y muestra el resultado.\n",
    "3. Documenta y comenta tu código.\n"
   ]
  },
  {
   "cell_type": "markdown",
   "id": "9eb50365",
   "metadata": {},
   "source": [
    "## REALIZADO POR CARLOS PARREÑO"
   ]
  },
  {
   "cell_type": "markdown",
   "id": "687a562c",
   "metadata": {},
   "source": [
    "## Ejercicio 1\n",
    "**Expresión a resolver:** `(7 + 2) * (5 - 3)`"
   ]
  },
  {
   "cell_type": "markdown",
   "id": "d3a52b7e",
   "metadata": {},
   "source": [
    "### a. Construcción del Árbol"
   ]
  },
  {
   "cell_type": "code",
   "execution_count": null,
   "id": "bf01ec74",
   "metadata": {},
   "outputs": [],
   "source": [
    "# Escribe aquí el código para construir el árbol"
   ]
  },
  {
   "cell_type": "markdown",
   "id": "9efbfb46",
   "metadata": {},
   "source": [
    "### b. Visualización con `networkx`"
   ]
  },
  {
   "cell_type": "code",
   "execution_count": 1,
   "id": "b93f2c91",
   "metadata": {},
   "outputs": [],
   "source": [
    "# Escribe aquí el código para graficar el árbol"
   ]
  },
  {
   "cell_type": "markdown",
   "id": "bee0c66c",
   "metadata": {},
   "source": [
    "### c. Evaluación de la Expresión"
   ]
  },
  {
   "cell_type": "code",
   "execution_count": 18,
   "id": "2adeec2b",
   "metadata": {},
   "outputs": [],
   "source": [
    "# Escribe aquí el código para evaluar la expresión"
   ]
  },
  {
   "cell_type": "markdown",
   "id": "cacaf59b",
   "metadata": {},
   "source": [
    "## Ejercicio 2\n",
    "**Expresión a resolver:** `((6 / 2) + (1 + 1)) * (4 - 2)`"
   ]
  },
  {
   "cell_type": "markdown",
   "id": "dab35bd7",
   "metadata": {},
   "source": [
    "### a. Construcción del Árbol"
   ]
  },
  {
   "cell_type": "code",
   "execution_count": 19,
   "id": "34040671",
   "metadata": {},
   "outputs": [],
   "source": [
    "# Escribe aquí el código para construir el árbol"
   ]
  },
  {
   "cell_type": "markdown",
   "id": "35208609",
   "metadata": {},
   "source": [
    "### b. Visualización con `networkx`"
   ]
  },
  {
   "cell_type": "code",
   "execution_count": 20,
   "id": "c26abb78",
   "metadata": {},
   "outputs": [],
   "source": [
    "# Escribe aquí el código para graficar el árbol"
   ]
  },
  {
   "cell_type": "markdown",
   "id": "32a30362",
   "metadata": {},
   "source": [
    "### c. Evaluación de la Expresión"
   ]
  },
  {
   "cell_type": "code",
   "execution_count": 21,
   "id": "12fc67d9",
   "metadata": {},
   "outputs": [],
   "source": [
    "# Escribe aquí el código para evaluar la expresión"
   ]
  },
  {
   "cell_type": "markdown",
   "id": "7d396e3b",
   "metadata": {},
   "source": [
    "## Ejercicio 3\n",
    "**Expresión a resolver:** `9 - ((3 * 2) + (8 / 4))`"
   ]
  },
  {
   "cell_type": "markdown",
   "id": "8a4333ec",
   "metadata": {},
   "source": []
  },
  {
   "cell_type": "markdown",
   "id": "e1ad8ab3",
   "metadata": {},
   "source": [
    "### a. Construcción del Árbol"
   ]
  },
  {
   "cell_type": "code",
   "execution_count": 22,
   "id": "226cf658",
   "metadata": {},
   "outputs": [],
   "source": [
    "# Escribe aquí el código para construir el árbol"
   ]
  },
  {
   "cell_type": "markdown",
   "id": "4ee49412",
   "metadata": {},
   "source": [
    "### b. Visualización con `networkx`"
   ]
  },
  {
   "cell_type": "code",
   "execution_count": 23,
   "id": "019b1330",
   "metadata": {},
   "outputs": [],
   "source": [
    "# Escribe aquí el código para graficar el árbol"
   ]
  },
  {
   "cell_type": "markdown",
   "id": "3b35545f",
   "metadata": {},
   "source": [
    "### c. Evaluación de la Expresión"
   ]
  },
  {
   "cell_type": "code",
   "execution_count": 24,
   "id": "9ffc75b2",
   "metadata": {},
   "outputs": [],
   "source": [
    "# Escribe aquí el código para evaluar la expresión"
   ]
  },
  {
   "cell_type": "markdown",
   "id": "31cda3b2",
   "metadata": {},
   "source": [
    "## Ejercicio 4\n",
    "**Expresión a resolver:** `((10 - 2) * (6 + 1)) / (8 - (3 + 1))`"
   ]
  },
  {
   "cell_type": "markdown",
   "id": "93ad731e",
   "metadata": {},
   "source": [
    "### a. Construcción del Árbol"
   ]
  },
  {
   "cell_type": "code",
   "execution_count": 25,
   "id": "54e20b26",
   "metadata": {},
   "outputs": [],
   "source": [
    "# Escribe aquí el código para construir el árbol"
   ]
  },
  {
   "cell_type": "markdown",
   "id": "535b0ca8",
   "metadata": {},
   "source": [
    "### b. Visualización con `networkx`"
   ]
  },
  {
   "cell_type": "code",
   "execution_count": 26,
   "id": "a1132a25",
   "metadata": {},
   "outputs": [],
   "source": [
    "# Escribe aquí el código para graficar el árbol"
   ]
  },
  {
   "cell_type": "markdown",
   "id": "f3a3439d",
   "metadata": {},
   "source": [
    "### c. Evaluación de la Expresión"
   ]
  },
  {
   "cell_type": "code",
   "execution_count": 27,
   "id": "f8b50378",
   "metadata": {},
   "outputs": [],
   "source": [
    "# Escribe aquí el código para evaluar la expresión"
   ]
  },
  {
   "cell_type": "markdown",
   "id": "44675cbc",
   "metadata": {},
   "source": [
    "## Ejercicio 5\n",
    "**Expresión a resolver:** `(5 + (2 * (8 - 3))) / (6 - (1 + 2))`"
   ]
  },
  {
   "cell_type": "markdown",
   "id": "c328fd99",
   "metadata": {},
   "source": [
    "### a. Construcción del Árbol"
   ]
  },
  {
   "cell_type": "code",
   "execution_count": 28,
   "id": "b63b14d1",
   "metadata": {},
   "outputs": [],
   "source": [
    "# Escribe aquí el código para construir el árbol"
   ]
  },
  {
   "cell_type": "markdown",
   "id": "d7218b3d",
   "metadata": {},
   "source": [
    "### b. Visualización con `networkx`"
   ]
  },
  {
   "cell_type": "code",
   "execution_count": 29,
   "id": "657dda7a",
   "metadata": {},
   "outputs": [],
   "source": [
    "# Escribe aquí el código para graficar el árbol"
   ]
  },
  {
   "cell_type": "markdown",
   "id": "9d07ba26",
   "metadata": {},
   "source": [
    "### c. Evaluación de la Expresión"
   ]
  },
  {
   "cell_type": "code",
   "execution_count": 30,
   "id": "3ba9b848",
   "metadata": {},
   "outputs": [],
   "source": [
    "# Escribe aquí el código para evaluar la expresión"
   ]
  },
  {
   "cell_type": "markdown",
   "id": "4a3bcd6b",
   "metadata": {},
   "source": [
    "## Rúbrica de Evaluación (General - 100 puntos)"
   ]
  },
  {
   "cell_type": "markdown",
   "id": "3892d90f",
   "metadata": {},
   "source": [
    "\n",
    "| Criterio                                                                                      | Puntaje Máximo |\n",
    "|-----------------------------------------------------------------------------------------------|----------------|\n",
    "| **1. Construcción correcta del árbol binario de expresión**                                  | **25 pts**     |\n",
    "| - Jerarquía de operadores, operandos como hojas                                              |                |\n",
    "|                                                                                               |                |\n",
    "| **2. Implementación en Python con POO y recursividad**                                       | **25 pts**     |\n",
    "| - Uso adecuado de clases y funciones recursivas                                              |                |\n",
    "|                                                                                               |                |\n",
    "| **3. Visualización clara con `networkx` y `matplotlib`**                                     | **20 pts**     |\n",
    "| - Jerarquía y distribución clara de nodos                                                    |                |\n",
    "|                                                                                               |                |\n",
    "| **4. Evaluación correcta de la expresión aritmética**                                        | **20 pts**     |\n",
    "| - Cálculo correcto del resultado                                                             |                |\n",
    "|                                                                                               |                |\n",
    "| **5. Claridad del código, organización y presentación del cuaderno**                         | **10 pts**     |\n",
    "| - Comentarios, títulos y buena organización                                                  |                |\n",
    "|                                                                                               |                |\n",
    "| **Total**                                                                                     | **100 pts**    |\n"
   ]
  }
 ],
 "metadata": {
  "kernelspec": {
   "display_name": "Python 3",
   "language": "python",
   "name": "python3"
  },
  "language_info": {
   "codemirror_mode": {
    "name": "ipython",
    "version": 3
   },
   "file_extension": ".py",
   "mimetype": "text/x-python",
   "name": "python",
   "nbconvert_exporter": "python",
   "pygments_lexer": "ipython3",
   "version": "3.13.3"
  }
 },
 "nbformat": 4,
 "nbformat_minor": 5
}
