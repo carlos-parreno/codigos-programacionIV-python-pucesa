{
 "cells": [
  {
   "cell_type": "markdown",
   "id": "c1d0d309",
   "metadata": {},
   "source": [
    "# 📘 Clase 1: Introducción a Árboles en Ciencias de la Computación"
   ]
  },
  {
   "cell_type": "markdown",
   "id": "4e62165d",
   "metadata": {},
   "source": [
    "### 🎯 Objetivo:\n",
    "Comprender qué es un árbol como estructura de datos, su terminología básica, tipos comunes y su importancia en la informática."
   ]
  },
  {
   "cell_type": "markdown",
   "id": "03b7cc98",
   "metadata": {},
   "source": [
    "### 📌 1. ¿Qué es un árbol?\n",
    "Un **árbol** es una estructura de datos no lineal que se organiza de forma jerárquica. Se compone de **nodos** conectados entre sí mediante **enlaces (aristas)**.\n",
    "\n",
    "- Cada nodo puede tener **cero o más hijos**.\n",
    "- Existe un nodo especial llamado **raíz**, desde donde parte todo el árbol.\n",
    "- No existen ciclos en un árbol."
   ]
  },
  {
   "cell_type": "markdown",
   "id": "d69e0ba6",
   "metadata": {},
   "source": [
    "### 📚 2. Terminología básica\n",
    "\n",
    "| Término          | Definición                                                                 |\n",
    "|------------------|---------------------------------------------------------------------------|\n",
    "| Nodo             | Elemento fundamental que contiene un valor y enlaces a otros nodos       |\n",
    "| Raíz             | Primer nodo del árbol                                                     |\n",
    "| Padre            | Nodo que tiene uno o más hijos                                             |\n",
    "| Hijo             | Nodo descendiente directo de otro nodo                                    |\n",
    "| Hoja             | Nodo sin hijos                                                             |\n",
    "| Subárbol         | Árbol que parte de cualquier nodo y sus descendientes                     |\n",
    "| Altura del árbol | Longitud del camino más largo desde la raíz hasta una hoja                |\n",
    "| Profundidad      | Longitud del camino desde la raíz hasta un nodo específico                |\n",
    "| Nivel            | Número de aristas entre la raíz y un nodo                                 |\n"
   ]
  },
  {
   "cell_type": "markdown",
   "id": "33cd98b4",
   "metadata": {},
   "source": [
    "### 🌳 3. Tipos comunes de árboles\n",
    "\n",
    "| Tipo                        | Descripción                                                                 |\n",
    "|-----------------------------|------------------------------------------------------------------------------|\n",
    "| Árbol binario               | Cada nodo tiene como máximo 2 hijos                                          |\n",
    "| Árbol binario de búsqueda   | Hijo izquierdo < nodo < hijo derecho                                         |\n",
    "| Árbol balanceado            | Altura equilibrada para optimizar operaciones                               |\n",
    "| Árbol AVL, Red-Black        | Árboles binarios de búsqueda balanceados automáticamente                    |\n",
    "| Árbol N-ario                | Cada nodo puede tener hasta N hijos                                          |\n",
    "| Árbol Trie                  | Usado para almacenar cadenas, útil en procesamiento de texto                |\n",
    "| Árbol B/B+                  | Utilizado en bases de datos y sistemas de archivos                          |\n"
   ]
  },
  {
   "cell_type": "markdown",
   "id": "0b00a476",
   "metadata": {},
   "source": [
    "### 🔍 4. Aplicaciones de los árboles\n",
    "\n",
    "- Representación de expresiones matemáticas\n",
    "- Jerarquías de archivos\n",
    "- Sistemas expertos (árboles de decisión)\n",
    "- Inteligencia Artificial (minimax, árboles de juego)\n",
    "- Bases de datos y sistemas de archivos (árboles B, B+)\n",
    "- Compresión de datos (árboles de Huffman)\n",
    "- Indexación y búsqueda eficiente\n"
   ]
  },
  {
   "cell_type": "markdown",
   "id": "617eb6d8",
   "metadata": {},
   "source": [
    "### 🧠 5. ¿Por qué estudiar árboles?\n",
    "\n",
    "- Son estructuras **eficientes** para buscar, insertar y eliminar datos.\n",
    "- Permiten modelar **relaciones jerárquicas** naturales.\n",
    "- Sirven como base para estructuras más avanzadas como **heaps**, **tries**, y **árboles balanceados**.\n"
   ]
  },
  {
   "cell_type": "markdown",
   "id": "cc89ec32",
   "metadata": {},
   "source": [
    "----------------"
   ]
  },
  {
   "cell_type": "markdown",
   "id": "0fd06b76",
   "metadata": {},
   "source": [
    "### 🧪 Actividad guiada\n",
    "\n",
    "**Ejemplo 1:** Dibuja un árbol binario de 7 nodos e identifica los elementos: raíz, hojas, niveles, altura.\n",
    "\n",
    "**Ejemplo 2:** Investiga cómo se usa un árbol binario en la representación de expresiones aritméticas.\n"
   ]
  }
 ],
 "metadata": {
  "language_info": {
   "name": "python"
  }
 },
 "nbformat": 4,
 "nbformat_minor": 5
}
